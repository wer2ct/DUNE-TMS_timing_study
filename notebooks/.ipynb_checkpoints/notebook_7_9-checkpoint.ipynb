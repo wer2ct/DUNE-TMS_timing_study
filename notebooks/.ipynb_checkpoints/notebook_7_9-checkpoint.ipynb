{
 "cells": [
  {
   "cell_type": "markdown",
   "id": "d598c98c-949a-49f7-b505-abde8398623f",
   "metadata": {},
   "source": [
    "Most of the stuff here is focused on comparing the output a preliminary time slicing algorithm with merged and unmerged hits. "
   ]
  },
  {
   "cell_type": "code",
   "execution_count": 1,
   "id": "7cb62091-1606-4e93-8f35-93e3c5744465",
   "metadata": {},
   "outputs": [],
   "source": [
    "import numpy as np\n",
    "import matplotlib.pyplot as plt\n",
    "import collections"
   ]
  },
  {
   "cell_type": "code",
   "execution_count": 2,
   "id": "5fcf029f-fcea-478d-8e99-101308ac3e58",
   "metadata": {},
   "outputs": [
    {
     "name": "stdout",
     "output_type": "stream",
     "text": [
      "(252256, 8)\n",
      "(107479, 8)\n"
     ]
    }
   ],
   "source": [
    "#We can pull in our merged and unmerged hit data. The neutrino vertices array is common to both files.\n",
    "data_unmerged = np.load('../hitwise_detector_sim_0002459.npz')\n",
    "data_merged = np.load('python/test_0002459_merged.npz')\n",
    "neutrino_vertices = data_unmerged['first']\n",
    "hit_array_unmerged = data_unmerged['second']\n",
    "hit_array_merged = data_merged['first']\n",
    "print(np.shape(hit_array_unmerged))\n",
    "print(np.shape(hit_array_merged))"
   ]
  },
  {
   "cell_type": "code",
   "execution_count": 3,
   "id": "a33d1776-95ad-490a-b3e3-696d3c34d095",
   "metadata": {},
   "outputs": [],
   "source": [
    "#Some useful sorting functions\n",
    "def SortByTime(array):\n",
    "    sorted_array = array[np.argsort(array[:,5])]\n",
    "    return(sorted_array)\n",
    "\n",
    "def SortByNN(array):\n",
    "    sorted_array = array[np.argsort(array[:,0])]\n",
    "    return(sorted_array)"
   ]
  },
  {
   "cell_type": "code",
   "execution_count": 4,
   "id": "92585977-7ac2-43af-a205-5e52a9b1f4d5",
   "metadata": {},
   "outputs": [],
   "source": [
    "sorted_hits_merged = SortByTime(hit_array_merged)\n",
    "sorted_hits_unmerged = SortByTime(hit_array_unmerged)"
   ]
  },
  {
   "cell_type": "code",
   "execution_count": 5,
   "id": "8073b053-f81d-4049-ae3f-cd50898217b3",
   "metadata": {},
   "outputs": [
    {
     "name": "stdout",
     "output_type": "stream",
     "text": [
      "[[0.00000000e+00 7.34770243e+01]\n",
      " [1.00000000e+00 0.00000000e+00]\n",
      " [2.00000000e+00 1.28117544e+03]\n",
      " ...\n",
      " [5.97600000e+03 0.00000000e+00]\n",
      " [5.97700000e+03 3.66649168e+03]\n",
      " [5.97800000e+03 0.00000000e+00]]\n",
      "[[0.00000000e+00 7.34770243e+01]\n",
      " [1.00000000e+00 0.00000000e+00]\n",
      " [2.00000000e+00 1.28117544e+03]\n",
      " ...\n",
      " [5.97600000e+03 0.00000000e+00]\n",
      " [5.97700000e+03 3.66649168e+03]\n",
      " [5.97800000e+03 0.00000000e+00]]\n"
     ]
    }
   ],
   "source": [
    "#A useful data structure that can serve as a test of energy efficiency\n",
    "\n",
    "#Creates this array using unmerged PEs\n",
    "neutrino_PE_array_unmerged = np.zeros((5979, 2))\n",
    "for i in range(5979):\n",
    "    PEs = 0.\n",
    "    sub_array = sorted_hits_unmerged[sorted_hits_unmerged[:, 0] == i]\n",
    "    if np.shape(sub_array)[0] > 0:\n",
    "        for hit in sub_array:\n",
    "            PEs += hit[6]\n",
    "    neutrino_PE_array_unmerged[i][0] = i\n",
    "    neutrino_PE_array_unmerged[i][1] = PEs\n",
    "\n",
    "print(neutrino_PE_array_unmerged)\n",
    "\n",
    "#Creates this array using unmerged PEs\n",
    "neutrino_PE_array_merged = np.zeros((5979, 2))\n",
    "for i in range(5979):\n",
    "    PEs = 0.\n",
    "    sub_array = sorted_hits_merged[sorted_hits_merged[:, 0] == i]\n",
    "    if np.shape(sub_array)[0] > 0:\n",
    "        for hit in sub_array:\n",
    "            PEs += hit[6]\n",
    "    neutrino_PE_array_merged[i][0] = i\n",
    "    neutrino_PE_array_merged[i][1] = PEs\n",
    "\n",
    "print(neutrino_PE_array_merged)\n",
    "\n",
    "\n"
   ]
  },
  {
   "cell_type": "code",
   "execution_count": 6,
   "id": "df934838-fe14-4538-a736-2d1f15ec5652",
   "metadata": {},
   "outputs": [
    {
     "name": "stdout",
     "output_type": "stream",
     "text": [
      "4580167.087710667\n",
      "4580167.087710667\n"
     ]
    }
   ],
   "source": [
    "#As a quick check, the sum of PEs for these should be the same - good they are!\n",
    "print(np.sum(neutrino_PE_array_merged[:,1]))\n",
    "print(np.sum(neutrino_PE_array_unmerged[:,1]))"
   ]
  },
  {
   "cell_type": "code",
   "execution_count": 32,
   "id": "c15290ba-81d6-4b7d-80ed-2dacb3e2d620",
   "metadata": {},
   "outputs": [
    {
     "data": {
      "image/png": "[encoded data removed]",
      "text/plain": [
       "<Figure size 640x480 with 1 Axes>"
      ]
     },
     "metadata": {},
     "output_type": "display_data"
    }
   ],
   "source": [
    "PE_differences = [] #merged - unmerged\n",
    "for i in range(5979): \n",
    "    merged_PE = neutrino_PE_array_merged[i][1]\n",
    "    unmerged_PE = neutrino_PE_array_unmerged[i][1]\n",
    "    diff = merged_PE - unmerged_PE\n",
    "    PE_differences.append(diff)\n",
    "avg = np.average(PE_differences)\n",
    "plt.hist(PE_differences, bins = 200, histtype = 'step')\n",
    "plt.yscale('log')\n",
    "plt.xlim((-1000,1000))\n",
    "plt.title(f'PE Difference (Merged - Unmerged) for Neutrino Events, Mean: {avg:.2f}')\n",
    "plt.xlabel(\"PE Difference\")\n",
    "plt.show()"
   ]
  },
  {
   "cell_type": "code",
   "execution_count": null,
   "id": "463b0bd3-d373-48b1-952f-3366e2be7751",
   "metadata": {},
   "outputs": [],
   "source": [
    "#A time slicer based on the principles of the dune-tms slicer. takes thresholds and a hits array.\n",
    "#This function will return a list of lists of arrays. lol\n",
    "def SimpleTimeSlicer(hits, initial_threshold_energy = 50, drop_threshold_energy = 40):\n",
    "    sorted_hits = SortByTime(hits)\n",
    "    events = [] #This object stores the final \"events\" or slices that are grouped by the algorithm\n",
    "    window_duration_ns = 19\n",
    "    \n",
    "    current_window_hits = collections.deque() \n",
    "    current_window_energy_sum = 0.0\n",
    "\n",
    "    in_accumulation_phase = False\n",
    "    current_event_hits = [] #stores hit info for our event that is accumulating\n",
    "\n",
    "    for hit_row in sorted_hits: # Iterate through each full hit row\n",
    "        hit_time = hit_row[5]   # Time is at index 5\n",
    "        hit_energy = hit_row[6] # Energy is at index 6\n",
    "\n",
    "        #Add the current full hit row to the window\n",
    "        current_window_hits.append(hit_row) # Store the entire row\n",
    "        current_window_energy_sum += hit_energy #add the hit energy to our current window\n",
    "\n",
    "        #Remove hits that are outside the current window, basically sliding the deque forward\n",
    "        #The window is defined by (current_hit_time - window_duration_ns, current_hit_time]\n",
    "        while current_window_hits and current_window_hits[0][5] <= hit_time - window_duration_ns:\n",
    "            oldest_hit_row = current_window_hits.popleft() # Get the full oldest row\n",
    "            oldest_hit_energy = oldest_hit_row[6] # Access energy from the row\n",
    "            current_window_energy_sum -= oldest_hit_energy\n",
    "\n",
    "        #Handle accumulation logic\n",
    "        if not in_accumulation_phase:\n",
    "            #Not in accumulation, if we pass the threshold we should start\n",
    "            if current_window_energy_sum >= initial_threshold_energy:\n",
    "                    in_accumulation_phase = True #here we activate accumulation mode - begin a slice.\n",
    "                    # When we *start* accumulation, initialize `current_event_hits` with\n",
    "                    # all hits currently within the *valid* window (i.e., those in `current_window_hits`).\n",
    "                    # We need to make a copy here (`list(...)`) because `current_window_hits`\n",
    "                    # will continue to change as the window slides.\n",
    "                    #this making a copy rather than grabbing it everytime the hit slides was the reason we encountered duplicates in previous versions\n",
    "                    current_event_hits = list(current_window_hits)\n",
    "        else: # We ARE currently in an accumulation phase\n",
    "            # Add the current full hit row to the accumulating event.\n",
    "            current_event_hits.append(hit_row)\n",
    "\n",
    "            # Check if the energy in the *current window* has dropped below the threshold, after adding the most recent entry\n",
    "            if current_window_energy_sum < drop_threshold_energy:\n",
    "                # If indeed we have dropped below threshold go ahead and \n",
    "                events.append(current_event_hits)\n",
    "                in_accumulation_phase = False #turning off the \n",
    "                current_event_hits = [] # Reset for the next event - dumping the current events hit list\n",
    "\n",
    "    # After iterating through all hits, check if we were still in an accumulation phase.\n",
    "    # If so, the last event needs to be saved, it won't do this automatically!\n",
    "    if in_accumulation_phase:\n",
    "        events.append(current_event_hits)\n",
    "    \n",
    "    return(events)\n"
   ]
  },
  {
   "cell_type": "code",
   "execution_count": null,
   "id": "9834221c-05c9-4a56-bfaf-7b14e600e852",
   "metadata": {},
   "outputs": [],
   "source": [
    "#Some other utility functions\n",
    "\n",
    "#this function checks how many total events were placed into groups. \n",
    "def ValidateEvents(events):\n",
    "    iter = 0\n",
    "    for group in events:\n",
    "        for hit in group:\n",
    "            iter += 1\n",
    "    return(iter)\n",
    "\n",
    "#this function will return a list of hits grouped into arrays based on their event. May incorporate into main function...\n",
    "#then individual slices can be accessed by their index. \n",
    "def StackEvents(events):\n",
    "    event_list = []\n",
    "    for i in range(len(events)):\n",
    "        event_list.append(np.vstack(events[i]))\n",
    "    return(event_list)\n",
    "            \n",
    "#This function can print out the time slices\n",
    "def SlicerPrinting(events, loud = False):\n",
    "    print(f\"Detected {len(events)} events:\")\n",
    "    for i, event in enumerate(events):\n",
    "        print(f\"\\n--- Event {i+1} ---\")\n",
    "        total_energy_event = sum(hit_row[6] for hit_row in event) # Sum energy from full rows\n",
    "        print(f\"Total hits: {len(event)}\")\n",
    "        print(f\"Total energy: {total_energy_event:.2f}\")\n",
    "        # Get min/max time from the full hit rows in the event\n",
    "        if event: # Ensure event is not empty before accessing elements\n",
    "            start_time = min(hit_row[5] for hit_row in event)\n",
    "            end_time = max(hit_row[5] for hit_row in event)\n",
    "            print(f\"Time range: {start_time:.1f} ns - {end_time:.1f} ns\")\n",
    "            \n",
    "        if loud:\n",
    "            print(\"Hits (full data) in event:\")\n",
    "            for hit_row in event:\n",
    "                # Print specific fields for clarity, or the whole row\n",
    "                print(f\"  Neutrino: {hit_row[0]}, Hit: {hit_row[1]}, Time: {hit_row[5]:.1f}, Energy: {hit_row[6]:.1f}, X: {hit_row[2]}\")"
   ]
  },
  {
   "cell_type": "code",
   "execution_count": null,
   "id": "8ac76bb9-f841-4f35-9c61-417c16672467",
   "metadata": {},
   "outputs": [],
   "source": [
    "sliced = SimpleTimeSlicer(hit_array)\n",
    "print(ValidateEvents(sliced))\n",
    "#SlicerPrinting(sliced)"
   ]
  },
  {
   "cell_type": "code",
   "execution_count": null,
   "id": "fffcd4a3-7530-473d-8eed-0e2f5a812856",
   "metadata": {},
   "outputs": [],
   "source": [
    "slice_stack = StackEvents(sliced)"
   ]
  },
  {
   "cell_type": "code",
   "execution_count": null,
   "id": "4640c4fd-0c6e-42d4-b5f7-b7e19600a7e0",
   "metadata": {},
   "outputs": [],
   "source": [
    "#Lets add a function to check the efficiency of our slicing. (sorta modeled off our previous) THIS IS JUST A TEMPLATE\n",
    "group_no = 23\n",
    "events_represented = np.unique(groups[group_number][:, 0])\n",
    "for neutrino_number in events_represented:\n",
    "    total_PE_share = 0.\n",
    "    for hit in groups[group_no][:, :]:\n",
    "        if hit[0] == neutrino_number:\n",
    "            total_PE_share += hit[6]\n",
    "            \n",
    "    total_event_PE = neutrino_total_PE_array[int(neutrino_number)][1]\n",
    "    percent_PE_here = (total_PE_share / total_event_PE) * 100\n",
    "    print(f\"For neutrino number {neutrino_number}, group {group_no} contains {percent_PE_here}% of event PE\")"
   ]
  }
 ],
 "metadata": {
  "kernelspec": {
   "display_name": "Python 3 (ipykernel)",
   "language": "python",
   "name": "python3"
  },
  "language_info": {
   "codemirror_mode": {
    "name": "ipython",
    "version": 3
   },
   "file_extension": ".py",
   "mimetype": "text/x-python",
   "name": "python",
   "nbconvert_exporter": "python",
   "pygments_lexer": "ipython3",
   "version": "3.10.12"
  }
 },
 "nbformat": 4,
 "nbformat_minor": 5
}
