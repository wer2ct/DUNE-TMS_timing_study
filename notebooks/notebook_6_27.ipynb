{
 "cells": [
  {
   "cell_type": "code",
   "execution_count": 1,
   "id": "a1627a41-751d-4374-9da9-914c420bc879",
   "metadata": {},
   "outputs": [
    {
     "name": "stdout",
     "output_type": "stream",
     "text": [
      "Welcome to JupyROOT 6.26/16\n"
     ]
    }
   ],
   "source": [
    "import uproot\n",
    "import matplotlib.pyplot as plt\n",
    "from mpl_toolkits.mplot3d import Axes3D\n",
    "import awkward as ak\n",
    "import numpy as np\n",
    "import math\n",
    "import ROOT as root\n",
    "from array import array"
   ]
  },
  {
   "cell_type": "code",
   "execution_count": 2,
   "id": "6740c46d-0603-4550-b6f8-bcb9760ef1ca",
   "metadata": {},
   "outputs": [
    {
     "name": "stdout",
     "output_type": "stream",
     "text": [
      "TFile**\t\t/sdf/home/t/tanaka/MicroProdN4p1_NDComplex_FHC.spill.full.0002459.EDEPSIM_SPILLS.root\t\n",
      " TFile*\t\t/sdf/home/t/tanaka/MicroProdN4p1_NDComplex_FHC.spill.full.0002459.EDEPSIM_SPILLS.root\t\n",
      "  KEY: TTree\tEDepSimEvents;26\tEnergy Deposition for Simulated Events [current cycle]\n",
      "  KEY: TTree\tEDepSimEvents;25\tEnergy Deposition for Simulated Events [backup cycle]\n",
      "  KEY: TGeoManager\tEDepSimGeometry;1\tSimulated Detector Geometry\n",
      "  KEY: TMap\tevent_spill_map;1\tA (key,value) map\n",
      "  KEY: TParameter<double>\tspillPeriod_s;1\t\n",
      "  KEY: TParameter<double>\tpot_per_spill;1\t\n",
      "  KEY: TParameter<double>\tpot1;1\t\n",
      "  KEY: TParameter<double>\tpot2;1\t\n",
      "  KEY: TDirectoryFile\tDetSimPassThru;1\tDetSimPassThru\n"
     ]
    },
    {
     "name": "stderr",
     "output_type": "stream",
     "text": [
      "Info in <TGeoManager::CloseGeometry>: Geometry loaded from file...\n",
      "Info in <TGeoManager::SetTopVolume>: Top volume is volWorld_PV. Master volume is volWorld_PV\n",
      "Info in <TGeoNavigator::BuildCache>: --- Maximum geometry depth set to 100\n",
      "Info in <TGeoManager::Voxelize>: Voxelizing...\n",
      "Info in <TGeoManager::CountLevels>: max level = 23, max placements = 1535\n",
      "Info in <TGeoManager::CloseGeometry>: 1643903 nodes/ 8916 volume UID's in Simulated Detector Geometry\n",
      "Info in <TGeoManager::CloseGeometry>: ----------------modeler ready----------------\n"
     ]
    }
   ],
   "source": [
    "#Experiment with geometry loading\n",
    "f = root.TFile.Open(\"/sdf/home/t/tanaka/MicroProdN4p1_NDComplex_FHC.spill.full.0002459.EDEPSIM_SPILLS.root\")\n",
    "f.ls()\n",
    "geom = f.Get(\"EDepSimGeometry\")"
   ]
  },
  {
   "cell_type": "code",
   "execution_count": 3,
   "id": "3d7abf15-0d24-4256-8781-677df07693c3",
   "metadata": {},
   "outputs": [
    {
     "name": "stdout",
     "output_type": "stream",
     "text": [
      "<class cppyy.gbl.TGeoManager at 0x55d7ec750d30>\n",
      "EDepSimGeometry\n",
      "OBJ: TGeoManager\tEDepSimGeometry\tSimulated Detector Geometry\n"
     ]
    }
   ],
   "source": [
    "print(type(geom))           # Should show <class 'ROOT.TGeoManager'>\n",
    "print(geom.GetName())       # Usually 'EDepSimGeometry' or similar\n",
    "geom.Print()\n",
    "root.gGeoManager = geom"
   ]
  },
  {
   "cell_type": "code",
   "execution_count": 4,
   "id": "7babe49a-ef09-4d0d-af6f-d65105bba995",
   "metadata": {},
   "outputs": [
    {
     "data": {
      "text/plain": [
       "'volWorld_PV'"
      ]
     },
     "execution_count": 4,
     "metadata": {},
     "output_type": "execute_result"
    }
   ],
   "source": [
    "top_volume = geom.GetTopVolume()\n",
    "top_volume.GetName()"
   ]
  },
  {
   "cell_type": "code",
   "execution_count": 5,
   "id": "113437d2-455b-404c-93f2-609256c0b2de",
   "metadata": {},
   "outputs": [
    {
     "name": "stdout",
     "output_type": "stream",
     "text": [
      "Top volume: volWorld_PV\n",
      "Number of daughter nodes: 1\n"
     ]
    }
   ],
   "source": [
    "top_volume = geom.GetTopVolume()\n",
    "print(f\"Top volume: {top_volume.GetName()}\")\n",
    "print(f\"Number of daughter nodes: {top_volume.GetNdaughters()}\")\n",
    "#top_volume.GetNodes()"
   ]
  },
  {
   "cell_type": "code",
   "execution_count": 6,
   "id": "7315c27b-55a0-4130-9160-18e77500a28f",
   "metadata": {},
   "outputs": [
    {
     "name": "stdout",
     "output_type": "stream",
     "text": [
      "Node name: volDetEnclosure_PV_0\n"
     ]
    }
   ],
   "source": [
    "xval, yval, zval = 0, 0, 11190\n",
    "node = geom.FindNode(xval, yval, zval)\n",
    "if not node:\n",
    "    print(\"No node found at this position.\")\n",
    "else:\n",
    "    print(\"Node name:\", node.GetName())"
   ]
  },
  {
   "cell_type": "markdown",
   "id": "c208883c-9946-49cd-8a98-69a79ddb5088",
   "metadata": {},
   "source": [
    "starting from the scintillator bar, moving up in the geometry to see the full layering\n",
    "There are two rotations of bars, and their names are literally \"modulelayervol1\" - U Bar +3 from Y and \"modulelayervol2\" - V Bar -3 from Y\"\n",
    "\"modulelayervol3\" - X Bar, \"modulelayervol4\" - Theoretical pure Y bar..."
   ]
  },
  {
   "cell_type": "code",
   "execution_count": 7,
   "id": "687f49db-fe46-41cc-8964-b1a2bbc85d3a",
   "metadata": {},
   "outputs": [
    {
     "name": "stdout",
     "output_type": "stream",
     "text": [
      "scinBoxlvTMS_PV_16\n",
      "ModuleBoxvol_PV_0\n",
      "modulelayervol1_PV_44\n",
      "volTMS_PV_0\n",
      "volDetEnclosure_PV_0\n",
      "rockBox_lv_PV_0\n",
      "volWorld_PV_1\n"
     ]
    }
   ],
   "source": [
    "#This is an example hit in the TMS to explore its location!\n",
    "x, y, z = -2789.9808, -385.6931, 17431.5356\n",
    "node = geom.FindNode(x, y, z) #this find the node the hit is in - a node is an instance of a volume. \n",
    "\n",
    "#print(node.GetVolume().GetName())\n",
    "print(node.GetName()) #this one is in the 16th instance of the scinBoxlvTMS_PV volume. \n",
    "\n",
    "#moving up a level\n",
    "geom.CdUp()\n",
    "node = geom.GetCurrentNode()\n",
    "print(node.GetName())\n",
    "\n",
    "#moving up a level\n",
    "geom.CdUp()\n",
    "node = geom.GetCurrentNode()\n",
    "print(node.GetName())\n",
    "\n",
    "#moving up a level\n",
    "geom.CdUp()\n",
    "node = geom.GetCurrentNode()\n",
    "print(node.GetName())\n",
    "\n",
    "#moving up a level\n",
    "geom.CdUp()\n",
    "node = geom.GetCurrentNode()\n",
    "print(node.GetName())\n",
    "\n",
    "#moving up a level\n",
    "geom.CdUp()\n",
    "node = geom.GetCurrentNode()\n",
    "print(node.GetName())\n",
    "\n",
    "#moving up a level\n",
    "geom.CdUp()\n",
    "node = geom.GetCurrentNode()\n",
    "print(node.GetName())\n",
    "\n",
    "#once we hit volWorld_PV_1 we have escaped the detector"
   ]
  },
  {
   "cell_type": "markdown",
   "id": "ecb16dbe-65ae-4d0c-8179-f8bb10cf1853",
   "metadata": {},
   "source": [
    "As we can see, this hit is located in a U Bar! Let's see if we can automate this scanning process a bit:"
   ]
  },
  {
   "cell_type": "code",
   "execution_count": 14,
   "id": "cec1a183-b242-4825-83f9-3f5c096be551",
   "metadata": {},
   "outputs": [
    {
     "name": "stdout",
     "output_type": "stream",
     "text": [
      "U\n",
      "15\n",
      "45\n"
     ]
    }
   ],
   "source": [
    "x_hit, y_hit, z_hit = -2825.8306180555574, -447.8311449193576, 17594.793326825627 #-2789.9808, -385.6931, 17431.5356 \n",
    "\n",
    "def ModuleFinder(x,y,z,geom):\n",
    "    module_names = {'modulelayervol1' : 'U' ,'modulelayervol2' : 'V' ,'modulelayervol3': 'X' ,'modulelayervol4' : 'Y'}\n",
    "    node = geom.FindNode(x, y, z)\n",
    "    orientation = 'null'\n",
    "    bar_number = 'null'\n",
    "    layer_number = 'null'\n",
    "    while node:\n",
    "        #print(node.GetName())\n",
    "        #print(node.GetNumber())\n",
    "        if 'scinBox' in node.GetName(): #this is like a rlly stupid line but let's just hope it works\n",
    "            bar_number = node.GetNumber()\n",
    "            box = geom.GetCurrentVolume().GetShape()\n",
    "            xw = 2 * box.GetDX()\n",
    "            yw = 2 * box.GetDY()\n",
    "            zw = 2 * box.GetDZ()\n",
    "        if \"modulelayervol\" in node.GetName():\n",
    "            layer_number = node.GetNumber()\n",
    "            for module_name in module_names.keys():\n",
    "                if module_name in node.GetName():\n",
    "                    orientation = module_names[module_name]\n",
    "                    #print(module_name)\n",
    "        if 'volDetEnclosure' in node.GetName():\n",
    "            break\n",
    "        geom.CdUp()\n",
    "        node = geom.GetCurrentNode()\n",
    "\n",
    "    return (orientation, bar_number, layer_number)\n",
    "\n",
    "bar_orientation, bar_no, layer_no = ModuleFinder( x_hit, y_hit, z_hit, geom) \n",
    "print(bar_orientation)\n",
    "print(bar_no)\n",
    "print(layer_no)"
   ]
  },
  {
   "cell_type": "code",
   "execution_count": null,
   "id": "46e50d3e-d83b-42a1-b57f-cbe7bc1b692c",
   "metadata": {},
   "outputs": [],
   "source": [
    "Bang"
   ]
  }
 ],
 "metadata": {
  "kernelspec": {
   "display_name": "Python 3 (ipykernel)",
   "language": "python",
   "name": "python3"
  },
  "language_info": {
   "codemirror_mode": {
    "name": "ipython",
    "version": 3
   },
   "file_extension": ".py",
   "mimetype": "text/x-python",
   "name": "python",
   "nbconvert_exporter": "python",
   "pygments_lexer": "ipython3",
   "version": "3.10.12"
  }
 },
 "nbformat": 4,
 "nbformat_minor": 5
}
