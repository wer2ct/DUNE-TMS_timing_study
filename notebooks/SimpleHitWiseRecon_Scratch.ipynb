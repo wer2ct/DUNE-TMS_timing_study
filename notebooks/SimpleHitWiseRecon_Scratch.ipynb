{
 "cells": [
  {
   "cell_type": "markdown",
   "id": "7f7c990b-06a7-48e3-94d9-39577fc50bf2",
   "metadata": {},
   "source": [
    "The basic goal of this script is to construct the necessarily reconstruction to measure event pileup in the TMS straight from edep-sim output to avoid any of the choices made by dune-tms. "
   ]
  },
  {
   "cell_type": "code",
   "execution_count": 1,
   "id": "6cc98cec-2cef-4c52-b8f8-57fe25d3199c",
   "metadata": {},
   "outputs": [
    {
     "name": "stdout",
     "output_type": "stream",
     "text": [
      "Welcome to JupyROOT 6.26/16\n"
     ]
    }
   ],
   "source": [
    "#imports\n",
    "import uproot\n",
    "import matplotlib.pyplot as plt\n",
    "from mpl_toolkits.mplot3d import Axes3D\n",
    "import awkward as ak\n",
    "import numpy as np\n",
    "import math\n",
    "import ROOT as root\n",
    "from array import array\n",
    "from numba import jit\n",
    "from collections import defaultdict"
   ]
  },
  {
   "cell_type": "code",
   "execution_count": 3,
   "id": "6edb1c47-6b10-4455-90c4-43ce3fb0d87c",
   "metadata": {},
   "outputs": [
    {
     "name": "stdout",
     "output_type": "stream",
     "text": [
      "5978\n"
     ]
    },
    {
     "name": "stderr",
     "output_type": "stream",
     "text": [
      "Warning in <TGeoManager::Init>: Deleting previous geometry: EDepSimGeometry/Simulated Detector Geometry\n",
      "Info in <TGeoManager::CloseGeometry>: Geometry loaded from file...\n",
      "Info in <TGeoManager::SetTopVolume>: Top volume is volWorld_PV. Master volume is volWorld_PV\n",
      "Info in <TGeoManager::Voxelize>: Voxelizing...\n",
      "Info in <TGeoManager::CountLevels>: max level = 23, max placements = 1535\n",
      "Info in <TGeoManager::CloseGeometry>: 1643903 nodes/ 8916 volume UID's in Simulated Detector Geometry\n",
      "Info in <TGeoManager::CloseGeometry>: ----------------modeler ready----------------\n"
     ]
    }
   ],
   "source": [
    "#Get the edep-file\n",
    "edep_file = root.TFile(\"/sdf/home/t/tanaka/MicroProdN4p1_NDComplex_FHC.spill.full.0002459.EDEPSIM_SPILLS.root\") \n",
    "geom = edep_file.Get(\"EDepSimGeometry\") #relevant for the bar finding\n",
    "#events tree\n",
    "edep_evts = edep_file.Get(\"EDepSimEvents\") \n",
    "total_events = edep_evts.GetEntries()\n",
    "print(total_events)"
   ]
  },
  {
   "cell_type": "code",
   "execution_count": 3,
   "id": "7da6970f-a73f-451d-a823-c2a7dd679641",
   "metadata": {},
   "outputs": [],
   "source": [
    "#This is how we could fill up a lookup table with neutrino vertex info for each event. \n",
    "#detsim tree to get vertices. Think to keep consistent with the hits I'll make it a list of dictionaries\n",
    "edep_detsim = edep_file.Get(\"DetSimPassThru\") #detsimpassthru directory\n",
    "gRooTrackerTree = edep_detsim.gRooTracker #get the proper tree\n",
    "edep_true_neutrino_vtx = [] #np.zeros((total_events, 5))\n",
    "vtxs = array('d', [0.0]*4)  # 'd' for double\n",
    "gRooTrackerTree.SetBranchAddress(\"EvtVtx\", vtxs)\n",
    "for i in range(gRooTrackerTree.GetEntries()):\n",
    "    gRooTrackerTree.GetEntry(i)\n",
    "    #don't forget to scale positions - will also need to scale energy eventually\n",
    "    vtx_data = {\n",
    "        \"neutrino_num\": i,\n",
    "        \"x\": vtxs[0]*1000,\n",
    "        \"y\": vtxs[1]*1000,\n",
    "        \"z\": vtxs[2]*1000,\n",
    "        \"t\": vtxs[3],\n",
    "    }\n",
    "    edep_true_neutrino_vtx.append(vtx_data)\n",
    "    \n",
    "#print(edep_true_neutrino_vtx)\n",
    "#np.shape(edep_true_neutrino_vtx)"
   ]
  },
  {
   "cell_type": "code",
   "execution_count": 4,
   "id": "699cd188-a97c-4069-84d1-c00e4e449166",
   "metadata": {},
   "outputs": [],
   "source": [
    "#Can add another line here to just save stuff to an array for later saving\n",
    "neutrino_number = []\n",
    "neutrino_x = []\n",
    "neutrino_y = []\n",
    "neutrino_z = []\n",
    "neutrino_t = []\n",
    "for entry in edep_true_neutrino_vtx:\n",
    "    neutrino_number.append(entry['neutrino_num'])\n",
    "    neutrino_x.append(entry['x'])\n",
    "    neutrino_y.append(entry['y'])\n",
    "    neutrino_z.append(entry['z'])\n",
    "    neutrino_t.append(entry['t'])\n",
    "\n",
    "neutrino_vertex_array = np.column_stack((neutrino_number,neutrino_x,neutrino_y,neutrino_z,neutrino_t))\n",
    "\n",
    "\n",
    "    "
   ]
  },
  {
   "cell_type": "code",
   "execution_count": 5,
   "id": "16ee4eca-cea5-498a-9b33-dc819d89a4a7",
   "metadata": {},
   "outputs": [
    {
     "data": {
      "text/plain": [
       "5978"
      ]
     },
     "execution_count": 5,
     "metadata": {},
     "output_type": "execute_result"
    }
   ],
   "source": [
    "#Now lets take a look at the hit segments:\n",
    "edep_evt = root.TG4Event()\n",
    "edep_evts.SetBranchAddress(\"Event\",root.AddressOf(edep_evt))\n",
    "edep_evts.GetEntries() #this is just to check the number of entries again"
   ]
  },
  {
   "cell_type": "code",
   "execution_count": 65,
   "id": "faa3b9f3-de69-4fef-90a6-9ad4990838d1",
   "metadata": {},
   "outputs": [],
   "source": [
    "#n_number = 0 \n",
    "#edep_evts.GetEntry(n_number) #the 0th event, associated with the 0th neutrino vertex, just as a proof of concept!\n",
    "#hit_segments = edep_evt.SegmentDetectors['volTMS'] #the hit segment associated with the 0th event, in the TMS\n",
    "#when this eventually is looping over all of our hit-segments we will want to make sure that we are first checking that the hit_segment.size() is non-zero\n",
    "#edep_evt.EventId"
   ]
  },
  {
   "cell_type": "markdown",
   "id": "1ef86ee0-f479-45c9-a045-72acef7918a1",
   "metadata": {},
   "source": [
    "A basic function to identify the orientation, bar, and plane of a given hit location - uses hit location and geometry Note - there is a TMS .scale attribute that gets applied -> geometry can be in either cm or mm, so want to make sure that we are in the correct one... a little silly but we can add something to check at the top. Ok I'm actually fairly sure the scale is 1mm -- we can double check later if needed"
   ]
  },
  {
   "cell_type": "code",
   "execution_count": 66,
   "id": "12e71f05-65c3-4a83-a56d-66bb28102794",
   "metadata": {},
   "outputs": [],
   "source": [
    "def ModuleFinder(x,y,z,geom):\n",
    "    module_names = {'modulelayervol1' : 'U' ,'modulelayervol2' : 'V' ,'modulelayervol3': 'X' ,'modulelayervol4' : 'Y'}\n",
    "    node = geom.FindNode(x, y, z)\n",
    "    orientation = 'null'\n",
    "    bar_number = 'null'\n",
    "    layer_number = 'null'\n",
    "    widths = [0,0,0]\n",
    "    bar_positions = array('d', [x, y, z]) #hold bar positions as just hit x,y,z for now bar_positions = array('d', [0.0, 0.0, 0.0])\n",
    "    while node:\n",
    "        #print(node.GetName())\n",
    "        #print(node.GetNumber())\n",
    "        if 'scinBox' in node.GetName(): #this is like a rlly stupid line but let's just hope it works\n",
    "            bar_number = node.GetNumber()\n",
    "            box = geom.GetCurrentVolume().GetShape()\n",
    "            local = array('d', [0.0, 0.0, 0.0])  # 'd' = C double\n",
    "            geom.GetCurrentMatrix().LocalToMaster(local, bar_positions) #assigning the center of the bar to the hit -- basically just PyROOTED dune-tms code.\n",
    "            widths[0] = 2 * box.GetDX()\n",
    "            widths[1] = 2 * box.GetDY()\n",
    "            widths[2] = 2 * box.GetDZ()\n",
    "        if \"modulelayervol\" in node.GetName():\n",
    "            layer_number = node.GetNumber()\n",
    "            for module_name in module_names.keys():\n",
    "                if module_name in node.GetName():\n",
    "                    orientation = module_names[module_name]\n",
    "                    #print(module_name)\n",
    "        if 'volDetEnclosure' in node.GetName():\n",
    "            break\n",
    "        geom.CdUp()\n",
    "        node = geom.GetCurrentNode()\n",
    "\n",
    "    if orientation == 'X':\n",
    "        bar_positions[0] = -99999000  # remove X information -- irrelevant given geometry\n",
    "        xw, yw = yw, xw               # flip widths --apparently root handles incorrectly for x-bars\n",
    "    elif orientation in ['U', 'V', 'Y']:\n",
    "        bar_positions[1] = -99999000  # remove Y information -- irrelevant given geometry\n",
    "    else:\n",
    "        bar_positions = [-99999000, -99999000, -99999000]\n",
    "\n",
    "    return (widths, orientation, bar_number, layer_number, bar_positions)"
   ]
  },
  {
   "cell_type": "code",
   "execution_count": 67,
   "id": "935f69c2-fad2-4678-9edb-2bcd6fa59a55",
   "metadata": {},
   "outputs": [
    {
     "name": "stdout",
     "output_type": "stream",
     "text": [
      "U\n",
      "15\n",
      "45\n",
      "35.42\n",
      "array('d', [-2865.8973940285596, -99999000.0, 17593.0])\n"
     ]
    }
   ],
   "source": [
    "#Test of ModuleFinder\n",
    "true_x_hit, true_y_hit, true_z_hit = -2825.8306180555574, -447.8311449193576, 17594.793326825627\n",
    "widths, bar_orientation, bar_no, layer_no, bar_positions = ModuleFinder(true_x_hit, true_y_hit, true_z_hit, geom) \n",
    "print(bar_orientation)\n",
    "print(bar_no)\n",
    "print(layer_no)\n",
    "print(widths[0])\n",
    "print(bar_positions)"
   ]
  },
  {
   "cell_type": "markdown",
   "id": "68825200-044b-4a22-9ba0-e48bd6672848",
   "metadata": {},
   "source": [
    "This is the most basic class - consists simply of a positionally averaged TMS hit, drawn straight from the TMS hit segment. "
   ]
  },
  {
   "cell_type": "code",
   "execution_count": 68,
   "id": "21e02b41-cbe3-47cb-9017-12734ccc35d3",
   "metadata": {},
   "outputs": [],
   "source": [
    "class TMS_hit_simple:\n",
    "    def __init__(self, tms_hit_seg, neutrino_number, hit_number):\n",
    "        self.tms_hit_seg = tms_hit_seg\n",
    "        self.neutrino_number = neutrino_number #associated with what neutrino vertex\n",
    "        self.hit_number = hit_number #which TMS hit in the event\n",
    "        self.x_diff = 0.\n",
    "        self.y_diff = 0.\n",
    "        self.z_diff = 0.\n",
    "        self.Dx = 0.\n",
    "        \n",
    "    #Defining attributes based on the tms_hit_seg, avg position in each dimension plus time and energy deposition\n",
    "    def GetNeutrinoNumber(self):\n",
    "        return(self.neutrino_number)\n",
    "        \n",
    "    def GetHitNumber(self):\n",
    "        return(self.hit_number)\n",
    "        \n",
    "    def GetHitX(self):\n",
    "        x_pos = (self.tms_hit_seg.GetStart()[0] + self.tms_hit_seg.GetStop()[0]) / 2 \n",
    "        return(x_pos)\n",
    "        \n",
    "    def GetHitY(self):\n",
    "        y_pos = (self.tms_hit_seg.GetStart()[1] + self.tms_hit_seg.GetStop()[1]) / 2\n",
    "        return(y_pos)\n",
    "        \n",
    "    def GetHitZ(self):\n",
    "        z_pos = (self.tms_hit_seg.GetStart()[2] + self.tms_hit_seg.GetStop()[2]) / 2\n",
    "        return(z_pos)\n",
    "        \n",
    "    def GetHitT(self):\n",
    "        time = (self.tms_hit_seg.GetStart()[3] + self.tms_hit_seg.GetStop()[3]) / 2\n",
    "        return(time)\n",
    "        \n",
    "    def GetDx(self):\n",
    "        self.x_diff = (self.tms_hit_seg.GetStart()[0] - self.tms_hit_seg.GetStop()[0])\n",
    "        self.y_diff = (self.tms_hit_seg.GetStart()[1] - self.tms_hit_seg.GetStop()[1])\n",
    "        self.z_diff = (self.tms_hit_seg.GetStart()[2] - self.tms_hit_seg.GetStop()[2])\n",
    "        self.Dx = ((self.x_diff)**2 + (self.y_diff)**2 + (self.z_diff)**2)**(1/2)\n",
    "        return(self.Dx)\n",
    "        \n",
    "    def GetPrimaryDeposit(self):\n",
    "        PrimaryDeposit = self.tms_hit_seg.GetEnergyDeposit()\n",
    "        return(PrimaryDeposit)\n",
    "    \n",
    "    "
   ]
  },
  {
   "cell_type": "markdown",
   "id": "45fa31ce-2187-4d4f-b87f-d73b6d9aa857",
   "metadata": {},
   "source": [
    "Several useful functions in simulating hit-wise detector effects - some impact PE others impact the timing. "
   ]
  },
  {
   "cell_type": "code",
   "execution_count": 69,
   "id": "4a6ca097-a9ca-4554-8a6d-6058cb2b4c3a",
   "metadata": {},
   "outputs": [],
   "source": [
    "# ------ Functions pertaining to the Optical Simulation ------- #\n",
    "\n",
    "#Odds are I eventually package this into a different python file along with the class definitions. \n",
    "rand_seed = 42\n",
    "def GetTrueDistanceFromReadout(TMS_hit_reco):\n",
    "    TMS_Start_Bars_Only = [-3350, -2950]\n",
    "    TMS_End_Bars_Only = [3350, 240]\n",
    "    #XBars are weird\n",
    "    if (TMS_hit_reco.GetBarOrientation == 'X'):\n",
    "        if (TMS_hit_reco.GetTrueHitPosition()[0] < 0):\n",
    "            return(TMS_hit_reco.GetTrueHitPosition()[0] - TMS_Start_Bars_Only[0])\n",
    "        else:\n",
    "            return(TMS_End_Bars_Only[0] - TMS_hit_reco.GetTrueHitPosition()[0])\n",
    "    #All other bar orientations (U,V,Y)\n",
    "    else:\n",
    "        return(TMS_End_Bars_Only[1] - TMS_hit_reco.GetTrueHitPosition()[1])\n",
    "\n",
    "def GetTrueLongDistanceFromReadout(TMS_hit_reco):\n",
    "    TMS_Start_Bars_Only = [-3350, -2950]\n",
    "    TMS_End_Bars_Only = [3350, 240]\n",
    "    additional_length = 0.\n",
    "    #XBars\n",
    "    if (TMS_hit_reco.GetBarOrientation == 'X'):\n",
    "        additional_length = 2 * TMS_End_Bars_Only[0] #2 * XBar Length\n",
    "    #All other bar orientations (U,V,Y)\n",
    "    else:\n",
    "        additional_length = 2 * (TMS_End_Bars_Only[1] - TMS_Start_Bars_Only[1]) #2* YBar Length\n",
    "    return( additional_length - GetTrueDistanceFromReadout(TMS_hit_reco) )\n",
    "\n",
    "def GetTrueDistanceFromMiddle(TMS_hit_reco):\n",
    "    TMS_Start_Bars_Only = [-3350, -2950]\n",
    "    TMS_End_Bars_Only = [3350, 240]\n",
    "    additional_length = 0.\n",
    "    #XBars\n",
    "    if (TMS_hit_reco.GetBarOrientation == 'X'):\n",
    "        additional_length = 0.5 * TMS_End_Bars_Only[0]\n",
    "    #All other bar orientations (U,V,Y)\n",
    "    else:\n",
    "        additional_length = 0.5 * (TMS_End_Bars_Only[1] - TMS_Start_Bars_Only[1])\n",
    "    return( GetTrueDistanceFromReadout(TMS_hit_reco) - additional_length )\n",
    "        \n",
    "def GetTrueLongDistanceFromMiddle(TMS_hit_reco):\n",
    "    TMS_Start_Bars_Only = [-3350, -2950]\n",
    "    TMS_End_Bars_Only = [3350, 240]\n",
    "    additional_length = 0.\n",
    "    #XBars\n",
    "    if (TMS_hit_reco.GetBarOrientation == 'X'):\n",
    "        additional_length = 0.5 * TMS_End_Bars_Only[0]\n",
    "    #All other bar orientations (U,V,Y)\n",
    "    else:\n",
    "        additional_length = 0.5 * (TMS_End_Bars_Only[1] - TMS_Start_Bars_Only[1])\n",
    "    return( GetTrueLongDistanceFromReadout(TMS_hit_reco) - additional_length )\n",
    "\n",
    "#Models the effect of birk suppression on the total PE\n",
    "def BirkSuppress(de, dx, pe): #de is energy\n",
    "    birks_constant = 0.0905\n",
    "    dedx = 0\n",
    "    if (dx > 1e-8):\n",
    "        dedx = de / dx\n",
    "    else: \n",
    "        dedx = de / 1.0;\n",
    "    return(pe * (1.0 / (1.0 + birks_constant * dedx)))\n",
    "\n",
    "#Selects PEs as traveling in the long or short directions - then models the effect on the PE for traveling the long or short distance. Returns corrected PE\n",
    "def FiberLengthSim(pe, TMS_hit_reco):\n",
    "    #Constant used\n",
    "    wsf_decay_constant = 1 / 4.160\n",
    "    wsf_length_multiplier = 1.8 \n",
    "    wsf_fiber_reflection_eff = 0.95\n",
    "    readout_coupling_eff = 1.0\n",
    "    \n",
    "    #Select the PEs traveling in either direction. \n",
    "    rng = np.random.default_rng(seed = rand_seed)\n",
    "    pe_short = pe #what is number of pe's that travel the short path\n",
    "    pe_long = 0 #what is the number of pe's that travel the long path\n",
    "    pe = rng.poisson(pe)\n",
    "    pe_short = rng.binomial(n = pe, p = 0.5)\n",
    "    pe_long = pe - pe_short\n",
    "    \n",
    "    #these next calculations are done in meters to make it a bit easier, hence the conversions, models attenuation. \n",
    "    distance_from_end = GetTrueDistanceFromReadout(TMS_hit_reco) * 1e-3\n",
    "    long_way_distance_from_end = GetTrueLongDistanceFromReadout(TMS_hit_reco) * 1e-3\n",
    "    distance_from_end *= wsf_length_multiplier\n",
    "    long_way_distance_from_end *= wsf_length_multiplier\n",
    "\n",
    "    #attentuation\n",
    "    pe_short = pe_short * math.exp(-wsf_decay_constant * distance_from_end)\n",
    "    pe_long = pe_long * math.exp(-wsf_decay_constant * long_way_distance_from_end) * wsf_fiber_reflection_eff\n",
    "    \n",
    "    #could couple to additional optical fiber but we are going to go ahead and neglect that - default setting is to neglect. \n",
    "    pe_short *= readout_coupling_eff\n",
    "    pe_long *= readout_coupling_eff\n",
    "\n",
    "    #return the PE post attenuation, as well as some other useful bits of information for other functions \n",
    "    return( ( (pe_short + pe_long), pe_short, pe_long ) )\n",
    "\n",
    "    \n",
    "# ------ Functions pertaining to the Hit-Wise Timing Simulation ------- #\n",
    "\n",
    "def HitTimingSim(TMS_hit_reco):\n",
    "    rng = np.random.default_rng(seed=rand_seed)\n",
    "    #Constant\n",
    "    SPEED_OF_LIGHT = 0.2998  # m/ns\n",
    "    FIBER_N = 1.5\n",
    "    SPEED_OF_LIGHT_IN_FIBER = SPEED_OF_LIGHT / FIBER_N\n",
    "    scintillator_decay_time = 3.0  # ns\n",
    "    wsf_decay_time = 20.0  # ns\n",
    "    wsf_length_multiplier = 1.8 \n",
    "\n",
    "    # Gaussian noise: mean = 0.0, std dev = 1.0 ns\n",
    "    noise_distribution = lambda: rng.normal(loc=0.0, scale=1.0)\n",
    "\n",
    "    # Coin flip: returns 0 or 1\n",
    "    coin_flip = lambda: rng.integers(low=0, high=2)  # high=2 is exclusive\n",
    "\n",
    "    # Exponential decay distributions (rate = 1 / decay time)\n",
    "    exp_scint = lambda: rng.exponential(scale=scintillator_decay_time)  # mean = 3 ns\n",
    "    exp_wsf = lambda: rng.exponential(scale=wsf_decay_time)             # mean = 20 ns\n",
    "\n",
    "    #begin determining timing effect t here is the added time. \n",
    "    t = 0.\n",
    "    t += noise_distribution()\n",
    "    distance_from_middle = (GetTrueDistanceFromMiddle(TMS_hit_reco) * 1e-3) * wsf_length_multiplier\n",
    "    long_way_distance = (GetTrueLongDistanceFromMiddle(TMS_hit_reco) * 1e-3) * wsf_length_multiplier\n",
    "    time_correction = distance_from_middle / SPEED_OF_LIGHT_IN_FIBER;\n",
    "    time_correction_long_way = long_way_distance / SPEED_OF_LIGHT_IN_FIBER;\n",
    "\n",
    "    pe_short_path = TMS_hit_reco.GetRecoPE()[1]\n",
    "    pe_long_path = TMS_hit_reco.GetRecoPE()[2]\n",
    "    minimum_time_offset = 1e100\n",
    "\n",
    "    MAX_PE_THROWS = 300\n",
    "\n",
    "    #serves to cap the number of throws we do (little difference past 300)\n",
    "    if (pe_short_path > MAX_PE_THROWS):\n",
    "        pe_short_path = MAX_PE_THROWS\n",
    "    while (pe_short_path > 0):\n",
    "        time_offset = time_correction\n",
    "        time_offset += exp_scint()\n",
    "        time_offset += exp_wsf()\n",
    "        minimum_time_offset = min(time_offset, minimum_time_offset) #take whatever is less\n",
    "        pe_short_path -= 1\n",
    "\n",
    "    #serves to cap the number of throws that we do (little difference past 300)\n",
    "    if (pe_long_path > MAX_PE_THROWS):\n",
    "        pe_long_path = MAX_PE_THROWS\n",
    "    \n",
    "    while (pe_long_path > 0):\n",
    "        time_offset = time_correction_long_way\n",
    "        time_offset += exp_scint()\n",
    "        time_offset += exp_wsf()\n",
    "        minimum_time_offset = min(time_offset, minimum_time_offset) #take whatever is less\n",
    "        pe_long_path -= 1\n",
    "\n",
    "    t += minimum_time_offset\n",
    "    return (t + TMS_hit_reco.GetTrueHitT()) #return the true hit time + the determined travel effects.\n"
   ]
  },
  {
   "cell_type": "markdown",
   "id": "a3f4ee87-6a2e-4762-b786-0a066b8f1730",
   "metadata": {},
   "source": [
    "Useful functions to simulate multi-hit effects -- This is where we could simulate deadtime:"
   ]
  },
  {
   "cell_type": "code",
   "execution_count": 70,
   "id": "b6d45694-0411-47a7-8184-f22e66968378",
   "metadata": {},
   "outputs": [],
   "source": [
    "# ------ Functions pertaining to multi-event effects ------- #\n",
    "\n",
    "#merges hits that occur in same readout window and on same scintillator strip. Takes a list of reco hit dictionaries\n",
    "#this function is not durable to xbars. (ie, where y coordinate is the specified one) - correct this\n",
    "#I know as it stands this will flag each coincident hit twice, just dealing with it for now. Also... way too slow. Much room for improvement \n",
    "\n",
    "def ToArray(reco_hits):\n",
    "    reco_hit_xs = []\n",
    "    reco_hit_zs = []\n",
    "    reco_hit_ys = []\n",
    "    reco_hit_ts = []\n",
    "    reco_hit_nn = []\n",
    "    reco_hit_pe = []\n",
    "    reco_hit_hn = []\n",
    "    for hit in reco_hits:\n",
    "        if not hit['pedestal_subtracted?']:\n",
    "            reco_hit_xs.append(hit['hit_reco_position'][0])\n",
    "            reco_hit_ys.append(hit['hit_reco_position'][1])\n",
    "            reco_hit_zs.append(hit['hit_reco_position'][2])\n",
    "            reco_hit_ts.append(hit['hit_reco_T'])\n",
    "            reco_hit_nn.append(hit['neutrino_num'])\n",
    "            reco_hit_hn.append(hit['hit_num'])\n",
    "            reco_hit_pe.append(hit['hit_reco_PE'][0])\n",
    "\n",
    "\n",
    "    array = np.column_stack((reco_hit_nn, reco_hit_hn, reco_hit_xs, reco_hit_ys, reco_hit_zs, reco_hit_ts, reco_hit_pe))\n",
    "    return(array)\n",
    "    \n",
    "\n",
    "                \n",
    "    \n",
    "   \n",
    "    "
   ]
  },
  {
   "cell_type": "markdown",
   "id": "0aeaa29b-7f89-4f9c-b305-32f4e363bc70",
   "metadata": {},
   "source": [
    "This class allows us to apply reconstruction effects! - It inherits from a tms_hit_simple object, so make sure one of those exists! Also needs a geometry\n",
    "I'm like 100% sure there is a way to do direct inheritance - ie to allow us to just store the entire TMS_simple_hit class in TMS_hit_reco!"
   ]
  },
  {
   "cell_type": "code",
   "execution_count": 71,
   "id": "76d8d0c0-feb4-4d5b-ba4e-aaac6835c482",
   "metadata": {},
   "outputs": [],
   "source": [
    "class TMS_hit_reco:\n",
    "    def __init__(self, tms_hit_simple, geo):\n",
    "        self.tms_hit_simple = tms_hit_simple\n",
    "        self.geo = geo\n",
    "        #Run the ModuleFinder() function immediately\n",
    "        self.widths, self.bar_orientation, self.bar_no, self.layer_no, self.bar_positions = ModuleFinder(self.tms_hit_simple.GetHitX(), self.tms_hit_simple.GetHitY(), self.tms_hit_simple.GetHitZ() , self.geo)\n",
    "        \n",
    "    #Attributes which inherit directly from tms_hit_simple!!\n",
    "    \n",
    "    #We will want to include neutrino number here - directly inherited from the other class. Will probably often be just dealing with these hits. \n",
    "    def GetNeutrinoNumber(self):\n",
    "        return(self.tms_hit_simple.GetNeutrinoNumber())\n",
    "\n",
    "    def GetHitNumber(self):\n",
    "        return(self.tms_hit_simple.GetHitNumber())\n",
    "        \n",
    "    def GetTrueHitPosition(self):\n",
    "        return ( (self.tms_hit_simple.GetHitX(), self.tms_hit_simple.GetHitY(), self.tms_hit_simple.GetHitZ()) )\n",
    "    \n",
    "    def GetTrueHitT(self):\n",
    "        return(self.tms_hit_simple.GetHitT())\n",
    "\n",
    "    def GetDx(self):\n",
    "        return(self.tms_hit_simple.GetDx())\n",
    "        \n",
    "    #One final inheritance - the true hit primary deposition. \n",
    "    \n",
    "    def GetTrueHitPrimDeposition(self):\n",
    "        return(self.tms_hit_simple.GetPrimaryDeposit())\n",
    "\n",
    "    def GetRecoPE(self):\n",
    "        #note, the 0th index here is what we generally want, the other two are for detector sim calls. \n",
    "        initial_PE = self.tms_hit_simple.GetPrimaryDeposit() * 50.0  #E to PE with conversion \n",
    "        suppressed_PE = BirkSuppress( self.tms_hit_simple.GetPrimaryDeposit(), self.GetDx(), initial_PE ) #apply BirkSuppression\n",
    "        reco_PE, short_pe, long_pe = FiberLengthSim(suppressed_PE, self)\n",
    "        return(reco_PE, short_pe, long_pe)\n",
    "        \n",
    "    def GetPedestalSubtractedStatus(self): #true if hit is pedestal subtracted\n",
    "        if (self.GetRecoPE()[0] < 3.0):\n",
    "            return(True)\n",
    "\n",
    "        else:\n",
    "            return(False)\n",
    "        \n",
    "    #Attributes which are dependent on the bar segmentation\n",
    "    \n",
    "    def GetBarHitPos(self):\n",
    "        return(self.bar_positions)\n",
    "        \n",
    "    def GetBarNo(self):\n",
    "        return(self.bar_no)\n",
    "        \n",
    "    def GetBarLayer(self):\n",
    "        return(self.layer_no)  \n",
    "\n",
    "    def GetBarOrientation(self):\n",
    "        return(self.bar_orientation)\n",
    "        \n",
    "    #this will be updated with timing info!\n",
    "    def GetRecoHitT(self):\n",
    "        return(HitTimingSim(self))\n",
    "        "
   ]
  },
  {
   "cell_type": "code",
   "execution_count": 72,
   "id": "c84ee083-5e26-49d5-af3b-8e1e8878f45b",
   "metadata": {},
   "outputs": [
    {
     "name": "stdout",
     "output_type": "stream",
     "text": [
      "array('d', [-2299.9540640924474, -99999000.0, 11368.0])\n",
      "199.86749839697353\n",
      "10.2432750216337\n",
      "False\n",
      "86.1001193523407\n",
      "(23.080016551194923, 13.943274486683375, 9.136742064511548)\n",
      "210.03587708090737\n",
      "199.86749839697353\n"
     ]
    }
   ],
   "source": [
    "#Test Bench - pull a random hit.\n",
    "edep_evts.GetEntry(6)\n",
    "hit_segments = edep_evt.SegmentDetectors['volTMS']\n",
    "test_simple = TMS_hit_simple(hit_segments[0], 6, 0)\n",
    "test_reco = TMS_hit_reco(test_simple, geom)\n",
    "test_reco.GetNeutrinoNumber()\n",
    "print(test_reco.GetBarHitPos())\n",
    "print(test_reco.GetTrueHitT())\n",
    "print(test_reco.GetDx())\n",
    "print(test_reco.GetPedestalSubtractedStatus())\n",
    "print(test_reco.GetTrueHitPrimDeposition()*50) \n",
    "print(test_reco.GetRecoPE())\n",
    "print(test_reco.GetRecoHitT())\n",
    "print(test_reco.GetTrueHitT())"
   ]
  },
  {
   "cell_type": "markdown",
   "id": "15a8324a-4323-4579-b556-8bb329c26c67",
   "metadata": {},
   "source": [
    "TMS_Event_Processor takes as an argument a edep-sim events directory. The purpose of this function is to assemble an output tuple with the truth and reconstructed information. Recall: truth info has had no effects applied other than averaging over the hit segment (only way to actually collect info on a hit segment). While some reconstruction effects (ped subtraction, barification) are applied in the generator for those classes, some reco effects are event level (hit merging) and need to be handled in this script. "
   ]
  },
  {
   "cell_type": "code",
   "execution_count": 73,
   "id": "c90cf664-31db-42f2-abf4-f7dff1e95aeb",
   "metadata": {},
   "outputs": [],
   "source": [
    "def TMS_Event_Processor(edep_evts, n_events = 10, verbose = False):\n",
    "    true_hits_info = []\n",
    "    reco_hits_info = []\n",
    "    for n in range(n_events):\n",
    "        edep_evts.GetEntry(n) #the nth event, associated with the nth neutrino vertex\n",
    "        hit_segments = edep_evt.SegmentDetectors['volTMS'] #fetching the hit_segment vector for this event\n",
    "        if hit_segments.size() > 0: #checking the size of the hit segment, make sure we have TMS events \n",
    "            if verbose:\n",
    "                print(f\"{hit_segments.size()} TMS hits found in neutrino interaction number {n}, creating truth and rec hit objects\") \n",
    "            for i in range(hit_segments.size()):\n",
    "                hit_true = TMS_hit_simple(hit_segments[i], n, i) #takes the hit segment, the neutrino number, and the hit number\n",
    "                hit_reco = TMS_hit_reco(hit_true, geom)\n",
    "                #Fill the truth \n",
    "                hit_truth_data = {\n",
    "                    \"neutrino_num\": hit_true.GetNeutrinoNumber(),\n",
    "                    \"hit_num\": hit_true.GetHitNumber(),\n",
    "                    \"x\": hit_true.GetHitX(),\n",
    "                    \"y\": hit_true.GetHitY(),\n",
    "                    \"z\": hit_true.GetHitZ(),\n",
    "                    \"t\": hit_true.GetHitT(),\n",
    "                    \"primary_energy\": hit_true.GetPrimaryDeposit(),\n",
    "                    }\n",
    "                hit_reco_data = {\n",
    "                    \"neutrino_num\": hit_reco.GetNeutrinoNumber(),\n",
    "                    \"hit_num\": hit_reco.GetHitNumber(),\n",
    "                    \"hit_reco_position\": hit_reco.GetBarHitPos(),\n",
    "                    \"hit_reco_PE\": hit_reco.GetRecoPE(),\n",
    "                    \"pedestal_subtracted?\" : hit_reco.GetPedestalSubtractedStatus(),\n",
    "                    \"hit_true_T\" : hit_reco.GetTrueHitT(),\n",
    "                    \"hit_reco_T\" : hit_reco.GetRecoHitT(),\n",
    "                    }\n",
    "                true_hits_info.append(hit_truth_data)\n",
    "                reco_hits_info.append(hit_reco_data)\n",
    "        else:\n",
    "            if verbose:\n",
    "                print(f\"NO TMS hits found in neutrino interaction number {n}\")\n",
    "        \n",
    "    return( (true_hits_info , reco_hits_info ) )"
   ]
  },
  {
   "cell_type": "code",
   "execution_count": 48,
   "id": "4391e386-708b-4be0-897e-aed92a27b4c9",
   "metadata": {},
   "outputs": [
    {
     "name": "stdout",
     "output_type": "stream",
     "text": [
      "done!\n",
      "CPU times: user 7min 34s, sys: 4.89 s, total: 7min 39s\n",
      "Wall time: 7min 41s\n"
     ]
    }
   ],
   "source": [
    "%%time\n",
    "events_info = TMS_Event_Processor( edep_evts, n_events = 5978)\n",
    "print(\"done!\")\n",
    "reco_hits_info = events_info[1]\n",
    "truth_hits_info = events_info[0]"
   ]
  },
  {
   "cell_type": "markdown",
   "id": "c4a15a15-2ee6-4a20-be21-2b1c5b479dfe",
   "metadata": {},
   "source": [
    "We can plot a hit z vs x and PE to demonstrate the effect of some of the reconstruction. "
   ]
  },
  {
   "cell_type": "code",
   "execution_count": 55,
   "id": "edf70dd2-159a-4d43-b26c-76c74d958810",
   "metadata": {},
   "outputs": [
    {
     "data": {
      "image/png": "[encoded data removed]",
      "text/plain": [
       "<Figure size 1400x600 with 4 Axes>"
      ]
     },
     "metadata": {},
     "output_type": "display_data"
    }
   ],
   "source": [
    "event_number_example = 6\n",
    "\n",
    "# Reco hit data\n",
    "reco_hit_xs = []\n",
    "reco_hit_zs = []\n",
    "reco_hit_PEs = []\n",
    "reco_hit_Ts = []\n",
    "true_hit_Ts = []\n",
    "\n",
    "for hit in reco_hits_info:\n",
    "    if hit['neutrino_num'] == event_number_example and not hit['pedestal_subtracted?']:\n",
    "        reco_hit_xs.append(hit['hit_reco_position'][0])\n",
    "        reco_hit_zs.append(hit['hit_reco_position'][2])\n",
    "        true_hit_Ts.append(hit['hit_true_T'])\n",
    "        reco_hit_Ts.append(hit['hit_reco_T'])\n",
    "        reco_hit_PEs.append(hit['hit_reco_PE'][0])\n",
    "\n",
    "# Truth hit data\n",
    "truth_hit_xs = []\n",
    "truth_hit_zs = []\n",
    "truth_hit_PEs = []\n",
    "\n",
    "for hit in truth_hits_info:\n",
    "    if hit['neutrino_num'] == event_number_example:\n",
    "        truth_hit_xs.append(hit['x'])\n",
    "        truth_hit_zs.append(hit['z'])\n",
    "        truth_hit_PEs.append(hit['primary_energy'] * 50.0)\n",
    "\n",
    "# Get neutrino vertex\n",
    "event_neutrino = [vtx for vtx in edep_true_neutrino_vtx if vtx[\"neutrino_num\"] == event_number_example]\n",
    "\n",
    "# Setup side-by-side plots\n",
    "fig, (ax1, ax2) = plt.subplots(1, 2, figsize=(14, 6), sharex=True, sharey=True)\n",
    "\n",
    "# Plot reco hits\n",
    "sc2 = ax2.scatter(reco_hit_zs, reco_hit_xs, s=3, c=reco_hit_PEs, cmap='inferno', label='Reco TMS Hits')\n",
    "ax2.scatter(event_neutrino[0]['z'], event_neutrino[0]['x'], s=35, c='blue', marker='*', label='True Neutrino Vertex')\n",
    "ax2.set_xlabel(\"detector z (mm)\")\n",
    "ax2.set_ylabel(\"detector x (mm)\")\n",
    "ax2.set_title(f\"Event {event_number_example} - Detector Effect Sim Hits\")\n",
    "ax2.legend()\n",
    "fig.colorbar(sc2, ax=ax2, label='PEs')\n",
    "\n",
    "# Plot truth hits\n",
    "sc1 = ax1.scatter(truth_hit_zs, truth_hit_xs, s=3, c=truth_hit_PEs, cmap='inferno', label='Truth TMS Hits')\n",
    "ax1.scatter(event_neutrino[0]['z'], event_neutrino[0]['x'], s=35, c='blue', marker='*', label='True Neutrino Vertex')\n",
    "ax1.set_xlabel(\"detector z (mm)\")\n",
    "ax1.set_title(f\"Event {event_number_example} - Truth Hits\")\n",
    "ax1.legend()\n",
    "fig.colorbar(sc1, ax=ax1, label='PEs')\n",
    "\n",
    "plt.tight_layout()\n",
    "plt.show()"
   ]
  },
  {
   "cell_type": "markdown",
   "id": "e79aa0ca-d3cf-411a-ade5-10eea086ba33",
   "metadata": {},
   "source": [
    "We can also do a similar thing with event-wise timing plots "
   ]
  },
  {
   "cell_type": "code",
   "execution_count": 56,
   "id": "e535790b-f603-4e84-a598-fa683ec6632b",
   "metadata": {},
   "outputs": [
    {
     "data": {
      "image/png": "[encoded data removed]",
      "text/plain": [
       "<Figure size 1400x600 with 2 Axes>"
      ]
     },
     "metadata": {},
     "output_type": "display_data"
    }
   ],
   "source": [
    "fig, (ax1, ax2) = plt.subplots(1, 2, figsize=(14, 6), sharex=True, sharey=True)\n",
    "\n",
    "hist2 = ax2.hist(reco_hit_Ts, bins=100, histtype = 'step')\n",
    "ax2.set_xlabel(\"Hit Time (ns)\")\n",
    "ax2.set_ylabel(\"Hits\")\n",
    "ax2.set_title(f\"Event {event_number_example} - Detector Effect Sim Hit Timing\")\n",
    "\n",
    "hist1 = ax1.hist(true_hit_Ts, bins=100, histtype = 'step')\n",
    "ax1.set_xlabel(\"Hit Time (ns)\")\n",
    "ax1.set_ylabel(\"Hits\")\n",
    "ax1.set_title(f\"Event {event_number_example} - Detector True Hit Timing\")\n",
    "\n",
    "#Including true hits completely blows out scale since there are a ton of contributions from pedestal subtracted hits. \n",
    "plt.tight_layout()\n",
    "plt.show()"
   ]
  },
  {
   "cell_type": "code",
   "execution_count": 51,
   "id": "e5aec8c5-97ff-4685-a68d-8e0fb6ac8457",
   "metadata": {},
   "outputs": [],
   "source": [
    "array_events = ToArray(reco_hits_info)"
   ]
  },
  {
   "cell_type": "code",
   "execution_count": 79,
   "id": "89040c8d-353d-48a6-b190-a09ff5a2ba60",
   "metadata": {},
   "outputs": [
    {
     "data": {
      "text/plain": [
       "(252256, 7)"
      ]
     },
     "execution_count": 79,
     "metadata": {},
     "output_type": "execute_result"
    }
   ],
   "source": [
    "np.shape(array_events)"
   ]
  },
  {
   "cell_type": "code",
   "execution_count": 78,
   "id": "86c40e61-8e1c-4fcc-b4b9-748d9676ed6b",
   "metadata": {},
   "outputs": [
    {
     "name": "stdout",
     "output_type": "stream",
     "text": [
      "[ 0.00000000e+00  0.00000000e+00 -1.12036594e+03 -9.99990000e+07\n",
      "  1.15880000e+04  5.08872347e+01  2.03902239e+01]\n"
     ]
    }
   ],
   "source": [
    "print(array_events[0])"
   ]
  },
  {
   "cell_type": "code",
   "execution_count": 80,
   "id": "f0339022-456f-4bec-aa51-496a984cc22a",
   "metadata": {},
   "outputs": [],
   "source": [
    "np.savez('hitwise_detector_sim_0002459.npz', first = neutrino_vertex_array, second = array_events)"
   ]
  },
  {
   "cell_type": "code",
   "execution_count": null,
   "id": "997f6d86-1e66-4c71-b61d-b249a37e0933",
   "metadata": {},
   "outputs": [],
   "source": []
  }
 ],
 "metadata": {
  "kernelspec": {
   "display_name": "Python 3 (ipykernel)",
   "language": "python",
   "name": "python3"
  },
  "language_info": {
   "codemirror_mode": {
    "name": "ipython",
    "version": 3
   },
   "file_extension": ".py",
   "mimetype": "text/x-python",
   "name": "python",
   "nbconvert_exporter": "python",
   "pygments_lexer": "ipython3",
   "version": "3.10.12"
  }
 },
 "nbformat": 4,
 "nbformat_minor": 5
}
