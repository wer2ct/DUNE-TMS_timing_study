{
 "cells": [
  {
   "cell_type": "markdown",
   "id": "7f7c990b-06a7-48e3-94d9-39577fc50bf2",
   "metadata": {},
   "source": [
    "The basic goal of this script is to construct the necessarily reconstruction to measure event pileup in the TMS straight from edep-sim output to avoid any of the choices made by dune-tms. "
   ]
  },
  {
   "cell_type": "code",
   "execution_count": 1,
   "id": "6cc98cec-2cef-4c52-b8f8-57fe25d3199c",
   "metadata": {},
   "outputs": [
    {
     "name": "stdout",
     "output_type": "stream",
     "text": [
      "Welcome to JupyROOT 6.26/16\n"
     ]
    }
   ],
   "source": [
    "#imports\n",
    "import uproot\n",
    "import matplotlib.pyplot as plt\n",
    "from mpl_toolkits.mplot3d import Axes3D\n",
    "import awkward as ak\n",
    "import numpy as np\n",
    "import math\n",
    "import ROOT as root\n",
    "from array import array"
   ]
  },
  {
   "cell_type": "code",
   "execution_count": 2,
   "id": "6edb1c47-6b10-4455-90c4-43ce3fb0d87c",
   "metadata": {},
   "outputs": [
    {
     "name": "stderr",
     "output_type": "stream",
     "text": [
      "Info in <TGeoManager::CloseGeometry>: Geometry loaded from file...\n",
      "Info in <TGeoManager::SetTopVolume>: Top volume is volWorld_PV. Master volume is volWorld_PV\n",
      "Info in <TGeoNavigator::BuildCache>: --- Maximum geometry depth set to 100\n",
      "Info in <TGeoManager::Voxelize>: Voxelizing...\n",
      "Info in <TGeoManager::CountLevels>: max level = 23, max placements = 1535\n",
      "Info in <TGeoManager::CloseGeometry>: 1643903 nodes/ 8916 volume UID's in Simulated Detector Geometry\n",
      "Info in <TGeoManager::CloseGeometry>: ----------------modeler ready----------------\n"
     ]
    }
   ],
   "source": [
    "#Get the edep-file\n",
    "edep_file = root.TFile(\"/sdf/home/t/tanaka/MicroProdN4p1_NDComplex_FHC.spill.full.0002459.EDEPSIM_SPILLS.root\") \n",
    "geom = edep_file.Get(\"EDepSimGeometry\") #relevant for the bar finding\n",
    "#events tree\n",
    "edep_evts = edep_file.Get(\"EDepSimEvents\") \n",
    "total_events = edep_evts.GetEntries()"
   ]
  },
  {
   "cell_type": "code",
   "execution_count": 3,
   "id": "7da6970f-a73f-451d-a823-c2a7dd679641",
   "metadata": {},
   "outputs": [],
   "source": [
    "#This is how we could fill up a lookup table with neutrino vertex info for each event. \n",
    "#detsim tree to get vertices. Think to keep consistent with the hits I'll make it a list of dictionaries\n",
    "edep_detsim = edep_file.Get(\"DetSimPassThru\") #detsimpassthru directory\n",
    "gRooTrackerTree = edep_detsim.gRooTracker #get the proper tree\n",
    "edep_true_neutrino_vtx = [] #np.zeros((total_events, 5))\n",
    "vtxs = array('d', [0.0]*4)  # 'd' for double\n",
    "gRooTrackerTree.SetBranchAddress(\"EvtVtx\", vtxs)\n",
    "for i in range(gRooTrackerTree.GetEntries()):\n",
    "    gRooTrackerTree.GetEntry(i)\n",
    "    #don't forget to scale positions - will also need to scale energy eventually\n",
    "    vtx_data = {\n",
    "        \"neutrino_num\": i,\n",
    "        \"x\": vtxs[0]*1000,\n",
    "        \"y\": vtxs[1]*1000,\n",
    "        \"z\": vtxs[2]*1000,\n",
    "        \"t\": vtxs[3],\n",
    "    }\n",
    "    edep_true_neutrino_vtx.append(vtx_data)\n",
    "    \n",
    "#print(edep_true_neutrino_vtx)\n",
    "#np.shape(edep_true_neutrino_vtx)"
   ]
  },
  {
   "cell_type": "code",
   "execution_count": 4,
   "id": "16ee4eca-cea5-498a-9b33-dc819d89a4a7",
   "metadata": {},
   "outputs": [
    {
     "data": {
      "text/plain": [
       "5978"
      ]
     },
     "execution_count": 4,
     "metadata": {},
     "output_type": "execute_result"
    }
   ],
   "source": [
    "#Now lets take a look at the hit segments:\n",
    "edep_evt = root.TG4Event()\n",
    "edep_evts.SetBranchAddress(\"Event\",root.AddressOf(edep_evt))\n",
    "edep_evts.GetEntries() #this is just to check the number of entries again"
   ]
  },
  {
   "cell_type": "code",
   "execution_count": 5,
   "id": "faa3b9f3-de69-4fef-90a6-9ad4990838d1",
   "metadata": {},
   "outputs": [],
   "source": [
    "#n_number = 0 \n",
    "#edep_evts.GetEntry(n_number) #the 0th event, associated with the 0th neutrino vertex, just as a proof of concept!\n",
    "#hit_segments = edep_evt.SegmentDetectors['volTMS'] #the hit segment associated with the 0th event, in the TMS\n",
    "#when this eventually is looping over all of our hit-segments we will want to make sure that we are first checking that the hit_segment.size() is non-zero\n",
    "#edep_evt.EventId"
   ]
  },
  {
   "cell_type": "markdown",
   "id": "1ef86ee0-f479-45c9-a045-72acef7918a1",
   "metadata": {},
   "source": [
    "A basic function to identify the orientation, bar, and plane of a given hit location - uses hit location and geometry Note - there is a TMS .scale attribute that gets applied -> geometry can be in either cm or mm, so want to make sure that we are in the correct one... a little silly but we can add something to check at the top. Ok I'm actually fairly sure the scale is 1mm -- we can double check later if needed"
   ]
  },
  {
   "cell_type": "code",
   "execution_count": 6,
   "id": "12e71f05-65c3-4a83-a56d-66bb28102794",
   "metadata": {},
   "outputs": [],
   "source": [
    "def ModuleFinder(x,y,z,geom):\n",
    "    module_names = {'modulelayervol1' : 'U' ,'modulelayervol2' : 'V' ,'modulelayervol3': 'X' ,'modulelayervol4' : 'Y'}\n",
    "    node = geom.FindNode(x, y, z)\n",
    "    orientation = 'null'\n",
    "    bar_number = 'null'\n",
    "    layer_number = 'null'\n",
    "    widths = [0,0,0]\n",
    "    bar_positions = array('d', [x, y, z]) #hold bar positions as just hit x,y,z for now bar_positions = array('d', [0.0, 0.0, 0.0])\n",
    "    while node:\n",
    "        #print(node.GetName())\n",
    "        #print(node.GetNumber())\n",
    "        if 'scinBox' in node.GetName(): #this is like a rlly stupid line but let's just hope it works\n",
    "            bar_number = node.GetNumber()\n",
    "            box = geom.GetCurrentVolume().GetShape()\n",
    "            local = array('d', [0.0, 0.0, 0.0])  # 'd' = C double\n",
    "            geom.GetCurrentMatrix().LocalToMaster(local, bar_positions) #assigning the center of the bar to the hit -- basically just PyROOTED dune-tms code.\n",
    "            widths[0] = 2 * box.GetDX()\n",
    "            widths[1] = 2 * box.GetDY()\n",
    "            widths[2] = 2 * box.GetDZ()\n",
    "        if \"modulelayervol\" in node.GetName():\n",
    "            layer_number = node.GetNumber()\n",
    "            for module_name in module_names.keys():\n",
    "                if module_name in node.GetName():\n",
    "                    orientation = module_names[module_name]\n",
    "                    #print(module_name)\n",
    "        if 'volDetEnclosure' in node.GetName():\n",
    "            break\n",
    "        geom.CdUp()\n",
    "        node = geom.GetCurrentNode()\n",
    "\n",
    "    if orientation == 'X':\n",
    "        bar_positions[0] = -99999000  # remove X information -- irrelevant given geometry\n",
    "        xw, yw = yw, xw               # flip widths --apparently root handles incorrectly for x-bars\n",
    "    elif orientation in ['U', 'V', 'Y']:\n",
    "        bar_positions[1] = -99999000  # remove Y information -- irrelevant given geometry\n",
    "    else:\n",
    "        bar_positions = [-99999000, -99999000, -99999000]\n",
    "\n",
    "    return (widths, orientation, bar_number, layer_number, bar_positions)"
   ]
  },
  {
   "cell_type": "code",
   "execution_count": 7,
   "id": "935f69c2-fad2-4678-9edb-2bcd6fa59a55",
   "metadata": {},
   "outputs": [
    {
     "name": "stdout",
     "output_type": "stream",
     "text": [
      "U\n",
      "15\n",
      "45\n",
      "35.42\n",
      "array('d', [-2865.8973940285596, -99999000.0, 17593.0])\n"
     ]
    }
   ],
   "source": [
    "#Test of ModuleFinder\n",
    "true_x_hit, true_y_hit, true_z_hit = -2825.8306180555574, -447.8311449193576, 17594.793326825627\n",
    "widths, bar_orientation, bar_no, layer_no, bar_positions = ModuleFinder(true_x_hit, true_y_hit, true_z_hit, geom) \n",
    "print(bar_orientation)\n",
    "print(bar_no)\n",
    "print(layer_no)\n",
    "print(widths[0])\n",
    "print(bar_positions)"
   ]
  },
  {
   "cell_type": "markdown",
   "id": "68825200-044b-4a22-9ba0-e48bd6672848",
   "metadata": {},
   "source": [
    "This is the most basic class - consists simply of a positionally averaged TMS hit, drawn straight from the TMS hit segment. "
   ]
  },
  {
   "cell_type": "code",
   "execution_count": 8,
   "id": "21e02b41-cbe3-47cb-9017-12734ccc35d3",
   "metadata": {},
   "outputs": [],
   "source": [
    "class TMS_hit_simple:\n",
    "    def __init__(self, tms_hit_seg, neutrino_number, hit_number):\n",
    "        self.tms_hit_seg = tms_hit_seg\n",
    "        self.neutrino_number = neutrino_number #associated with what neutrino vertex\n",
    "        self.hit_number = hit_number #which TMS hit in the event\n",
    "        self.x_diff = 0.\n",
    "        self.y_diff = 0.\n",
    "        self.z_diff = 0.\n",
    "        self.Dx = 0.\n",
    "        \n",
    "    #Defining attributes based on the tms_hit_seg, avg position in each dimension plus time and energy deposition\n",
    "    def GetNeutrinoNumber(self):\n",
    "        return(self.neutrino_number)\n",
    "        \n",
    "    def GetHitNumber(self):\n",
    "        return(self.hit_number)\n",
    "        \n",
    "    def GetHitX(self):\n",
    "        x_pos = (self.tms_hit_seg.GetStart()[0] + self.tms_hit_seg.GetStop()[0]) / 2 \n",
    "        return(x_pos)\n",
    "        \n",
    "    def GetHitY(self):\n",
    "        y_pos = (self.tms_hit_seg.GetStart()[1] + self.tms_hit_seg.GetStop()[1]) / 2\n",
    "        return(y_pos)\n",
    "        \n",
    "    def GetHitZ(self):\n",
    "        z_pos = (self.tms_hit_seg.GetStart()[2] + self.tms_hit_seg.GetStop()[2]) / 2\n",
    "        return(z_pos)\n",
    "        \n",
    "    def GetHitT(self):\n",
    "        time = (self.tms_hit_seg.GetStart()[3] + self.tms_hit_seg.GetStop()[3]) / 2\n",
    "        return(time)\n",
    "        \n",
    "    def GetDx(self):\n",
    "        self.x_diff = (self.tms_hit_seg.GetStart()[0] - self.tms_hit_seg.GetStop()[0])\n",
    "        self.y_diff = (self.tms_hit_seg.GetStart()[1] - self.tms_hit_seg.GetStop()[1])\n",
    "        self.z_diff = (self.tms_hit_seg.GetStart()[2] - self.tms_hit_seg.GetStop()[2])\n",
    "        self.Dx = ((self.x_diff)**2 + (self.y_diff)**2 + (self.z_diff)**2)**(1/2)\n",
    "        return(self.Dx)\n",
    "        \n",
    "    def GetPrimaryDeposit(self):\n",
    "        PrimaryDeposit = self.tms_hit_seg.GetEnergyDeposit()\n",
    "        return(PrimaryDeposit)\n",
    "        \n",
    "    def GetSecondaryDeposit(self):\n",
    "        SecondaryDeposit = self.tms_hit_seg.GetSecondaryDeposit()\n",
    "        return(SecondaryDeposit)\n",
    "    "
   ]
  },
  {
   "cell_type": "markdown",
   "id": "45fa31ce-2187-4d4f-b87f-d73b6d9aa857",
   "metadata": {},
   "source": [
    "Several useful functions in simulating detector effects"
   ]
  },
  {
   "cell_type": "code",
   "execution_count": null,
   "id": "4a6ca097-a9ca-4554-8a6d-6058cb2b4c3a",
   "metadata": {},
   "outputs": [],
   "source": [
    "#Readout Distances:\n",
    "def GetTrueDistanceFromReadout(TMS_hit_reco):\n",
    "    if (TMS_hit_reco.GetBarOrientation == 'X'):\n",
    "        \n",
    "\n",
    "    \n",
    "    // Note that you want to do always do more positive - less positive, or else you get a sign error\n",
    "  if (GetBar().GetBarType() == TMS_Bar::kXBar) {\n",
    "    // Readout from sides\n",
    "    if (GetTrueHit().GetX() < 0) return GetTrueHit().GetX() - TMS_Geom::GetInstance().XBarNegReadoutLocation();\n",
    "    else return TMS_Geom::GetInstance().XBarPosReadoutLocation() - GetTrueHit().GetX();\n",
    "  }\n",
    "  else {\n",
    "    // Readout from top. Assuming U ~ V ~ Y for now\n",
    "    return TMS_Geom::GetInstance().YBarReadoutLocation() - GetTrueHit().GetY();\n",
    "  }\n",
    "}\n",
    "\n",
    "#Models the effect of birk suppression on the total PE\n",
    "def BirkSuppress(de, dx, pe): #de is energy\n",
    "    birks_constant = 0.0905\n",
    "    dedx = 0\n",
    "    if (dx > 1e-8):\n",
    "        dedx = de / dx\n",
    "    else: \n",
    "        dedx = de / 1.0;\n",
    "    return(pe * (1.0 / (1.0 + birks_constant * dedx)))\n",
    "\n",
    "#Selects PEs as traveling in the long or short directions - then models the effect on the PE for traveling the long or short distance\n",
    "def FiberLengthSim(pe):\n",
    "\n",
    "    #Select the PEs traveling in either direction. \n",
    "    rng = np.random.default_rng()\n",
    "    pe_short = pe #what is number of pe's that travel the short path\n",
    "    pe_long = 0 #what is the number of pe's that travel the long path\n",
    "    pe = rng.poisson(pe)\n",
    "    pe_short = rng.binomial(n=pe, p=0.5)\n",
    "    pe_long = pe - pe_short\n",
    "    \n",
    "\n",
    "    "
   ]
  },
  {
   "cell_type": "markdown",
   "id": "0aeaa29b-7f89-4f9c-b305-32f4e363bc70",
   "metadata": {},
   "source": [
    "This class allows us to apply reconstruction effects! - It inherits from a tms_hit_simple object, so make sure one of those exists! Also needs a geometry\n",
    "I'm like 100% sure there is a way to do direct inheritance - ie to allow us to just store the entire TMS_simple_hit class in TMS_hit_reco!"
   ]
  },
  {
   "cell_type": "code",
   "execution_count": 1,
   "id": "76d8d0c0-feb4-4d5b-ba4e-aaac6835c482",
   "metadata": {},
   "outputs": [],
   "source": [
    "class TMS_hit_reco:\n",
    "    def __init__(self, tms_hit_simple, geo):\n",
    "        self.tms_hit_simple = tms_hit_simple\n",
    "        self.geo = geo\n",
    "        #Run the ModuleFinder() function immediately\n",
    "        self.widths, self.bar_orientation, self.bar_no, self.layer_no, self.bar_positions = ModuleFinder(self.tms_hit_simple.GetHitX(), self.tms_hit_simple.GetHitY(), self.tms_hit_simple.GetHitZ() , self.geo)\n",
    "        self.PedestalSubtracted = False\n",
    "        \n",
    "    #Attributes which inherit directly from tms_hit_simple!!\n",
    "    \n",
    "    #We will want to include neutrino number here - directly inherited from the other class. Will probably often be just dealing with these hits. \n",
    "    def GetNeutrinoNumber(self):\n",
    "        return(self.tms_hit_simple.GetNeutrinoNumber())\n",
    "\n",
    "    def GetHitNumber(self):\n",
    "        return(self.tms_hit_simple.GetHitNumber())\n",
    "        \n",
    "    def GetTrueHitPosition(self):\n",
    "        return ( (self.tms_hit_simple.GetHitX(), self.tms_hit_simple.GetHitY(), self.tms_hit_simple.GetHitZ()) )\n",
    "    \n",
    "    def GetTrueHitT(self):\n",
    "        return(self.tms_hit_simple.GetHitT())\n",
    "\n",
    "    def GetDx(self):\n",
    "        return(self.tms_hit_simple.GetDx())\n",
    "        \n",
    "    #One final inheritance - the true hit primary deposition. \n",
    "    \n",
    "    def GetTrueHitPrimDeposition(self):\n",
    "        return(self.tms_hit_simple.GetPrimaryDeposit())\n",
    "\n",
    "    def GetRecoPE(self):\n",
    "        initial_PE = self.tms_hit_simple.GetPrimaryDeposit() * 50.0  #E to PE with conversion \n",
    "        reco_PE = BirkSuppress( self.tms_hit_simple.GetPrimaryDeposit(), self.GetDx(), initial_PE ) #apply BirkSuppression\n",
    "        return(reco_PE)\n",
    "        \n",
    "    def GetPedestalSubtractedStatus(self): #true if hit is pedestal subtracted\n",
    "        return(self.PedestalSubtracted)\n",
    "        \n",
    "    #Attributes which are dependent on the bar segmentation\n",
    "    \n",
    "    def GetBarHitPos(self):\n",
    "        return(self.bar_positions)\n",
    "        \n",
    "    def GetBarNo(self):\n",
    "        return(self.bar_no)\n",
    "        \n",
    "    def GetBarLayer(self):\n",
    "        return(self.layer_no)  \n",
    "\n",
    "    def GetBarOrientation(self):\n",
    "        return(self.bar_orientation)"
   ]
  },
  {
   "cell_type": "code",
   "execution_count": 26,
   "id": "c84ee083-5e26-49d5-af3b-8e1e8878f45b",
   "metadata": {},
   "outputs": [
    {
     "name": "stdout",
     "output_type": "stream",
     "text": [
      "array('d', [-2299.9540640924474, -99999000.0, 11368.0])\n",
      "199.86749839697353\n",
      "10.2432750216337\n",
      "False\n",
      "84.80982246620651\n"
     ]
    }
   ],
   "source": [
    "#Test Bench - pull a random hit.\n",
    "edep_evts.GetEntry(6)\n",
    "hit_segments = edep_evt.SegmentDetectors['volTMS']\n",
    "test_simple = TMS_hit_simple(hit_segments[0], 6, 0)\n",
    "test_reco = TMS_hit_reco(test_simple, geom)\n",
    "test_reco.GetNeutrinoNumber()\n",
    "print(test_reco.GetBarHitPos())\n",
    "print(test_reco.GetTrueHitT())\n",
    "print(test_reco.GetDx())\n",
    "print(test_reco.GetPedestalSubtractedStatus())\n",
    "print(test_reco.GetRecoPE())"
   ]
  },
  {
   "cell_type": "markdown",
   "id": "15a8324a-4323-4579-b556-8bb329c26c67",
   "metadata": {},
   "source": [
    "TMS_Event_Processor takes as an argument a edep-sim events directory. The purpose of this function is to assemble an output tuple with the truth and reconstructed information. Recall: truth info has had no effects applied other than averaging over the hit segment (only way to actually collect info on a hit segment). While some reconstruction effects (ped subtraction, barification) are applied in the generator for those classes, some reco effects are event level (hit merging) and need to be handled in this script. "
   ]
  },
  {
   "cell_type": "code",
   "execution_count": 27,
   "id": "c90cf664-31db-42f2-abf4-f7dff1e95aeb",
   "metadata": {},
   "outputs": [],
   "source": [
    "def TMS_Event_Processor(edep_evts, n_events = 10, verbose = False):\n",
    "    true_hits_info = []\n",
    "    reco_hits_info = []\n",
    "    for n in range(n_events):\n",
    "        edep_evts.GetEntry(n) #the nth event, associated with the nth neutrino vertex\n",
    "        hit_segments = edep_evt.SegmentDetectors['volTMS'] #fetching the hit_segment vector for this event\n",
    "        if hit_segments.size() > 0: #checking the size of the hit segment, make sure we have TMS events \n",
    "            if verbose:\n",
    "                print(f\"{hit_segments.size()} TMS hits found in neutrino interaction number {n}, creating truth and rec hit objects\") \n",
    "            for i in range(hit_segments.size()):\n",
    "                hit_true = TMS_hit_simple(hit_segments[i], n, i) #takes the hit segment, the neutrino number, and the hit number\n",
    "                hit_reco = TMS_hit_reco(hit_true, geom)\n",
    "                #Fill the truth \n",
    "                hit_truth_data = {\n",
    "                    \"neutrino_num\": hit_true.GetNeutrinoNumber(),\n",
    "                    \"hit_num\": hit_true.GetHitNumber(),\n",
    "                    \"x\": hit_true.GetHitX(),\n",
    "                    \"y\": hit_true.GetHitY(),\n",
    "                    \"z\": hit_true.GetHitZ(),\n",
    "                    \"t\": hit_true.GetHitT(),\n",
    "                    \"primary_energy\": hit_true.GetPrimaryDeposit(),\n",
    "                    \"secondary_energy\": hit_true.GetSecondaryDeposit()\n",
    "                    }\n",
    "                hit_reco_data = {\n",
    "                    \"neutrino_num\": hit_reco.GetNeutrinoNumber(),\n",
    "                    \"hit_num\": hit_reco.GetHitNumber(),\n",
    "                    \"hit_reco_position\": hit_reco.GetBarHitPos(),\n",
    "                    \"hit_reco_PE\": hit_reco.GetRecoPE(),\n",
    "                    \"pedestal_subtracted?\" : hit_reco.GetPedestalSubtractedStatus()\n",
    "                    }\n",
    "                true_hits_info.append(hit_truth_data)\n",
    "                reco_hits_info.append(hit_reco_data)\n",
    "        else:\n",
    "            if verbose:\n",
    "                print(f\"NO TMS hits found in neutrino interaction number {n}\")\n",
    "        \n",
    "    return( (true_hits_info , reco_hits_info ) )"
   ]
  },
  {
   "cell_type": "code",
   "execution_count": 28,
   "id": "4391e386-708b-4be0-897e-aed92a27b4c9",
   "metadata": {},
   "outputs": [
    {
     "name": "stdout",
     "output_type": "stream",
     "text": [
      "done!\n",
      "CPU times: user 939 ms, sys: 7.77 ms, total: 947 ms\n",
      "Wall time: 951 ms\n"
     ]
    }
   ],
   "source": [
    "%%time\n",
    "event_info = TMS_Event_Processor( edep_evts, n_events = 50 )[1]\n",
    "print(\"done!\")\n",
    "truth_hits_info = event_info[0]\n",
    "reco_hits_info = event_info[1]"
   ]
  },
  {
   "cell_type": "code",
   "execution_count": 65,
   "id": "2362efe2-a04e-4300-9247-d047c9ba7844",
   "metadata": {},
   "outputs": [
    {
     "name": "stdout",
     "output_type": "stream",
     "text": [
      "[{'neutrino_num': 50, 'x': -2622.0320650868516, 'y': -1525.4657570819013, 'z': 8380.151375459343, 't': 855.0823195995763}]\n"
     ]
    },
    {
     "data": {
      "image/png": "[encoded data removed]",
      "text/plain": [
       "<Figure size 640x480 with 2 Axes>"
      ]
     },
     "metadata": {},
     "output_type": "display_data"
    }
   ],
   "source": [
    "#Example of how to pull truth information for a given event!\n",
    "event_number_example = 6\n",
    "event_hits = [hit for hit in list_of_true_hits if hit[\"neutrino_num\"] == event_number_example]\n",
    "hit_xs = []\n",
    "hit_ys = []\n",
    "hit_zs = []\n",
    "hit_energies = []\n",
    "for entry in event_hits:\n",
    "    #print(entry)\n",
    "    hit_xs.append(entry['x'])\n",
    "    hit_ys.append(entry['y'])\n",
    "    hit_zs.append(entry['z'])\n",
    "    hit_energies.append(entry['primary_energy'])\n",
    "event_neutrino = [vtx for vtx in edep_true_neutrino_vtx if vtx[\"neutrino_num\"] == event_number_example]\n",
    "print(event_neutrino)\n",
    "plt.scatter(hit_zs, hit_xs, s = 3, c = hit_energies , cmap = 'inferno', label = 'TMS Hits')\n",
    "plt.colorbar()\n",
    "plt.scatter(event_neutrino[0]['z'], event_neutrino[0]['x'], s = 35, c = 'blue', marker = '*', label = 'True Neutrino Vertex')\n",
    "plt.xlabel(\"detector z (mm)\")\n",
    "plt.ylabel(\"detector x (mm)\")\n",
    "plt.title(f\"Event {event_number_example} Display - True Hits\")\n",
    "plt.legend()\n",
    "plt.show()"
   ]
  },
  {
   "cell_type": "code",
   "execution_count": 66,
   "id": "bda6f6d9-fb17-4249-90b2-861ccb7fa22e",
   "metadata": {},
   "outputs": [
    {
     "name": "stdout",
     "output_type": "stream",
     "text": [
      "[{'neutrino_num': 50, 'x': -2622.0320650868516, 'y': -1525.4657570819013, 'z': 8380.151375459343, 't': 855.0823195995763}]\n"
     ]
    },
    {
     "data": {
      "image/png": "[encoded data removed]",
      "text/plain": [
       "<Figure size 640x480 with 2 Axes>"
      ]
     },
     "metadata": {},
     "output_type": "display_data"
    }
   ],
   "source": [
    "#Example of how to pull reco information from a given event!\n",
    "event_hits = [hit for hit in list_of_reco_hits if hit[\"neutrino_num\"] == event_number_example]\n",
    "reco_xs = []\n",
    "reco_zs = []\n",
    "reco_hit_PEs = []\n",
    "for entry in event_hits:\n",
    "    if (entry['pedestal_subtracted?']) == False: #exclude hits that are below threshold\n",
    "        reco_xs.append(entry['hit_reco_position'][0])\n",
    "        reco_zs.append(entry['hit_reco_position'][2])\n",
    "        reco_hit_PEs.append(entry['hit_PE'])\n",
    "\n",
    "event_neutrino = [vtx for vtx in edep_true_neutrino_vtx if vtx[\"neutrino_num\"] == event_number_example]\n",
    "print(event_neutrino)\n",
    "plt.scatter(reco_zs, reco_xs, s = 3, c = reco_hit_PEs , cmap = 'inferno', label = 'Reco TMS Hits')\n",
    "plt.colorbar()\n",
    "plt.scatter(event_neutrino[0]['z'], event_neutrino[0]['x'], s = 35, c = 'blue', marker = '*', label = 'True Neutrino Vertex') \n",
    "plt.xlabel(\"detector z (mm)\")\n",
    "plt.ylabel(\"detector x (mm)\")\n",
    "plt.title(f\"Event {event_number_example} Display - Reco Hits\")\n",
    "plt.legend()\n",
    "plt.show()"
   ]
  },
  {
   "cell_type": "markdown",
   "id": "3e03257b-9b53-4efd-8202-0e950cef99c2",
   "metadata": {},
   "source": [
    "A basic function to identify the orientation, bar, and plane of a given hit location - uses hit location and geometry\n",
    "Note - there is a TMS .scale attribute that gets applied -> geometry can be in either cm or mm, so want to make sure that we are in the correct one... a little silly but we can add something to check at the top. Ok I'm actually fairly sure the scale is 1mm -- we can double check later if needed "
   ]
  },
  {
   "cell_type": "code",
   "execution_count": null,
   "id": "594a052b-d18a-4989-b668-cce542e98e05",
   "metadata": {},
   "outputs": [],
   "source": []
  }
 ],
 "metadata": {
  "kernelspec": {
   "display_name": "Python 3 (ipykernel)",
   "language": "python",
   "name": "python3"
  },
  "language_info": {
   "codemirror_mode": {
    "name": "ipython",
    "version": 3
   },
   "file_extension": ".py",
   "mimetype": "text/x-python",
   "name": "python",
   "nbconvert_exporter": "python",
   "pygments_lexer": "ipython3",
   "version": "3.10.12"
  }
 },
 "nbformat": 4,
 "nbformat_minor": 5
}
